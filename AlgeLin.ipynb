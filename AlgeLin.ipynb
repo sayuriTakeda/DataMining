{
 "cells": [
  {
   "cell_type": "markdown",
   "metadata": {},
   "source": [
    "Lista 5 de Álgebra Linear  (parte computacional)"
   ]
  },
  {
   "cell_type": "markdown",
   "metadata": {},
   "source": [
    "#### Questão 1)\n",
    "\n",
    " Use a projeção ortogonal para encontrar o plano z = ax + by + c que melhor se ajusta aos pontos P1 = (0, 0, 0) ,\n",
    "P2 = (1, 0, 3) , P3 = (0, 1, 2),P4 = (1, 1, 4) e P5 = (3, 2, 6) , no sentido dos mínimos quadrados."
   ]
  },
  {
   "cell_type": "markdown",
   "metadata": {},
   "source": [
    "Precisamos encontrar:  $(A^{T}A)^{-1}A^{T}Y$"
   ]
  },
  {
   "cell_type": "code",
   "execution_count": 97,
   "metadata": {
    "collapsed": true
   },
   "outputs": [],
   "source": [
    "import numpy as np\n",
    "import matplotlib.pyplot as plt"
   ]
  },
  {
   "cell_type": "code",
   "execution_count": 98,
   "metadata": {
    "collapsed": false
   },
   "outputs": [
    {
     "data": {
      "text/plain": [
       "matrix([[0, 0, 1],\n",
       "        [1, 0, 1],\n",
       "        [0, 1, 1],\n",
       "        [1, 1, 1],\n",
       "        [3, 2, 1]])"
      ]
     },
     "execution_count": 98,
     "metadata": {},
     "output_type": "execute_result"
    }
   ],
   "source": [
    "A = [[0,0,1],[1,0,1],[0,1,1],[1,1,1],[3,2,1]]\n",
    "A = np.asmatrix(A)\n",
    "A"
   ]
  },
  {
   "cell_type": "code",
   "execution_count": 99,
   "metadata": {
    "collapsed": false
   },
   "outputs": [],
   "source": [
    "Y = [0,3,2,4,6]"
   ]
  },
  {
   "cell_type": "code",
   "execution_count": 100,
   "metadata": {
    "collapsed": false
   },
   "outputs": [
    {
     "data": {
      "text/plain": [
       "matrix([[-0.05128205,  0.30769231, -0.43589744, -0.07692308,  0.25641026],\n",
       "        [-0.23076923, -0.61538462,  0.53846154,  0.15384615,  0.15384615],\n",
       "        [ 0.43589744,  0.38461538,  0.20512821,  0.15384615, -0.17948718]])"
      ]
     },
     "execution_count": 100,
     "metadata": {},
     "output_type": "execute_result"
    }
   ],
   "source": [
    "B = np.linalg.inv(A.transpose()*A)*A.transpose()\n",
    "B"
   ]
  },
  {
   "cell_type": "code",
   "execution_count": 101,
   "metadata": {
    "collapsed": false
   },
   "outputs": [
    {
     "data": {
      "text/plain": [
       "matrix([[ 1.28205128,  0.76923077,  1.1025641 ]])"
      ]
     },
     "execution_count": 101,
     "metadata": {},
     "output_type": "execute_result"
    }
   ],
   "source": [
    "np.dot(B,Y) # a,b,c"
   ]
  },
  {
   "cell_type": "markdown",
   "metadata": {},
   "source": [
    "#### Questão 2)\n",
    "\n",
    "Dois robôs vão negociar um ativo. A cada rodada o robô vendedor estabelece o preço x do ativo e simultaneamente o robô comprador faz a oferta de compra do ativo pelo valor y . O negócio só se concretiza quando\n",
    "x ≤ y , com o valor negociado sendo (x + y)/2 . Suponha que os valores na primeira rodada sejam $x_{0}$ e $y_{0}$ ,\n",
    "com $x_{0}$ > $y_{0}$ . Os robôs são programados para refazerem suas ofertas do seguinte modo: a cada período de\n",
    "negociação k + 1 o novo valor estabelecido por cada robô é:\n",
    "\n",
    "$x_{k+1}$ = $x_{k}$ − ($x_{k}$ − $y_{k}$)/3\n",
    "\n",
    "$y_{k+1}$ = $y_{k}$ + ($x_{k}$ − $y_{k}$)/4\n",
    "\n",
    "Use seus conhecimentos de autovalores e autovetores para decidir se haverá negociação e, em caso afirmativo,\n",
    "qual será o valor negociado."
   ]
  },
  {
   "cell_type": "code",
   "execution_count": 102,
   "metadata": {
    "collapsed": false
   },
   "outputs": [],
   "source": [
    "# venda = x e compra = y\n",
    "# x<=y o negócio se concretiza"
   ]
  },
  {
   "cell_type": "code",
   "execution_count": 103,
   "metadata": {
    "collapsed": true
   },
   "outputs": [],
   "source": [
    "x=4\n",
    "y=3"
   ]
  },
  {
   "cell_type": "code",
   "execution_count": 104,
   "metadata": {
    "collapsed": false
   },
   "outputs": [
    {
     "data": {
      "text/plain": [
       "3.5"
      ]
     },
     "execution_count": 104,
     "metadata": {},
     "output_type": "execute_result"
    }
   ],
   "source": [
    "(x+y)/2"
   ]
  },
  {
   "cell_type": "code",
   "execution_count": 105,
   "metadata": {
    "collapsed": false
   },
   "outputs": [],
   "source": [
    "resultados=[]\n",
    "for i in range(20):\n",
    "    Xk_=x-(x-y)/3\n",
    "    Yk_=y+(x-y)/4\n",
    "    resultados.append((Xk_,Yk_))\n",
    "    x=Xk_\n",
    "    y=Yk_"
   ]
  },
  {
   "cell_type": "code",
   "execution_count": 106,
   "metadata": {
    "collapsed": false
   },
   "outputs": [
    {
     "data": {
      "text/plain": [
       "[(3.6666666666666665, 3.25),\n",
       " (3.5277777777777777, 3.3541666666666665),\n",
       " (3.4699074074074074, 3.397569444444444),\n",
       " (3.4457947530864197, 3.415653935185185),\n",
       " (3.435747813786008, 3.4231891396604937),\n",
       " (3.431561589077503, 3.4263288081918724),\n",
       " (3.429817328782293, 3.42763700341328),\n",
       " (3.4290905536592886, 3.4281820847555333),\n",
       " (3.4287877306913703, 3.4284092019814723),\n",
       " (3.4286615544547376, 3.428503834158947),\n",
       " (3.4286089810228075, 3.4285432642328946),\n",
       " (3.42858707542617, 3.4285596934303726),\n",
       " (3.4285779480942375, 3.428566538929322),\n",
       " (3.4285741450392657, 3.428569391220551),\n",
       " (3.4285725604330275, 3.4285705796752297),\n",
       " (3.4285719001804282, 3.428571074864679),\n",
       " (3.4285716250751785, 3.4285712811936166),\n",
       " (3.4285715104479912, 3.428571367164007),\n",
       " (3.428571462686663, 3.428571402985003),\n",
       " (3.42857144278611, 3.428571417910418)]"
      ]
     },
     "execution_count": 106,
     "metadata": {},
     "output_type": "execute_result"
    }
   ],
   "source": [
    "resultados"
   ]
  },
  {
   "cell_type": "code",
   "execution_count": 107,
   "metadata": {
    "collapsed": true
   },
   "outputs": [],
   "source": [
    "resultados_dif = []\n",
    "for i in resultados:\n",
    "    j = i[1] - i[0]\n",
    "    resultados_dif.append(j)"
   ]
  },
  {
   "cell_type": "code",
   "execution_count": 108,
   "metadata": {
    "collapsed": false
   },
   "outputs": [
    {
     "data": {
      "image/png": "[encoded data removed]",
      "text/plain": [
       "<matplotlib.figure.Figure at 0x7f6dca4a0f28>"
      ]
     },
     "metadata": {},
     "output_type": "display_data"
    }
   ],
   "source": [
    "plt.plot(list(range(len(resultados_dif))),resultados_dif,'ro')\n",
    "plt.show()"
   ]
  },
  {
   "cell_type": "markdown",
   "metadata": {},
   "source": [
    "O valor negociado nunca será x (preço de venda) menor ou igual a y (preço de compra), porem podemos considerar que quando a diferença for muito pequena o negócio irá ocorrer. "
   ]
  },
  {
   "cell_type": "markdown",
   "metadata": {},
   "source": [
    "#### Fazer com equação diferente da anterior"
   ]
  },
  {
   "cell_type": "markdown",
   "metadata": {},
   "source": [
    "$x_{k+1}$ = $x_{k}$ − ($x_{k}$ − $y_{k}$)/3\n",
    "\n",
    "$y_{k+1}$ = $y_{k}$ + ($x_{k}$ − $y_{k}$)/2"
   ]
  },
  {
   "cell_type": "code",
   "execution_count": 109,
   "metadata": {
    "collapsed": false
   },
   "outputs": [
    {
     "data": {
      "text/plain": [
       "matrix([[ 0.66666667,  0.33333333],\n",
       "        [ 0.5       ,  0.5       ]])"
      ]
     },
     "execution_count": 109,
     "metadata": {},
     "output_type": "execute_result"
    }
   ],
   "source": [
    "m=[[2/3,1/3],[1/2,1/2]]\n",
    "m = np.asmatrix(m)\n",
    "m"
   ]
  },
  {
   "cell_type": "markdown",
   "metadata": {},
   "source": [
    "Se os valores iniciais forem (12,6) quais serão os valores no segundo período?"
   ]
  },
  {
   "cell_type": "code",
   "execution_count": 110,
   "metadata": {
    "collapsed": false
   },
   "outputs": [],
   "source": [
    "v = [12,6]"
   ]
  },
  {
   "cell_type": "code",
   "execution_count": 111,
   "metadata": {
    "collapsed": false
   },
   "outputs": [
    {
     "data": {
      "text/plain": [
       "matrix([[ 10.,   9.]])"
      ]
     },
     "execution_count": 111,
     "metadata": {},
     "output_type": "execute_result"
    }
   ],
   "source": [
    "novo_v = np.dot(m,v)\n",
    "novo_v"
   ]
  },
  {
   "cell_type": "code",
   "execution_count": 112,
   "metadata": {
    "collapsed": false
   },
   "outputs": [
    {
     "data": {
      "text/plain": [
       "matrix([[ 9.66666667],\n",
       "        [ 9.5       ]])"
      ]
     },
     "execution_count": 112,
     "metadata": {},
     "output_type": "execute_result"
    }
   ],
   "source": [
    "m*novo_v.T"
   ]
  },
  {
   "cell_type": "markdown",
   "metadata": {},
   "source": [
    "#### Fazer diagonalizada para saber as probabilidades no futuro "
   ]
  },
  {
   "cell_type": "code",
   "execution_count": 113,
   "metadata": {
    "collapsed": false
   },
   "outputs": [
    {
     "data": {
      "text/plain": [
       "matrix([[ 0.66666667,  0.33333333],\n",
       "        [ 0.5       ,  0.5       ]])"
      ]
     },
     "execution_count": 113,
     "metadata": {},
     "output_type": "execute_result"
    }
   ],
   "source": [
    "m=[[2/3,1/3],[1/2,1/2]]\n",
    "m = np.asmatrix(m)\n",
    "m"
   ]
  },
  {
   "cell_type": "code",
   "execution_count": 114,
   "metadata": {
    "collapsed": true
   },
   "outputs": [],
   "source": [
    "autovalores,autovetores = np.linalg.eig(m)"
   ]
  },
  {
   "cell_type": "code",
   "execution_count": 115,
   "metadata": {
    "collapsed": false
   },
   "outputs": [
    {
     "data": {
      "text/plain": [
       "array([[ 1.        ,  0.        ],\n",
       "       [ 0.        ,  0.16666667]])"
      ]
     },
     "execution_count": 115,
     "metadata": {},
     "output_type": "execute_result"
    }
   ],
   "source": [
    "D = np.diag(autovalores)\n",
    "D"
   ]
  },
  {
   "cell_type": "code",
   "execution_count": 116,
   "metadata": {
    "collapsed": false
   },
   "outputs": [
    {
     "data": {
      "text/plain": [
       "matrix([[ 0.66666667,  0.33333333],\n",
       "        [ 0.5       ,  0.5       ]])"
      ]
     },
     "execution_count": 116,
     "metadata": {},
     "output_type": "execute_result"
    }
   ],
   "source": [
    "autovetores * D * np.linalg.inv(autovetores) # igual a matriz inicial "
   ]
  },
  {
   "cell_type": "code",
   "execution_count": 117,
   "metadata": {
    "collapsed": false
   },
   "outputs": [
    {
     "data": {
      "text/plain": [
       "matrix([[ 0.6,  0.4],\n",
       "        [ 0.6,  0.4]])"
      ]
     },
     "execution_count": 117,
     "metadata": {},
     "output_type": "execute_result"
    }
   ],
   "source": [
    "autovetores * (D**20) * np.linalg.inv(autovetores)"
   ]
  },
  {
   "cell_type": "markdown",
   "metadata": {},
   "source": [
    "#### Questão 3)"
   ]
  },
  {
   "cell_type": "markdown",
   "metadata": {},
   "source": [
    "#### a)"
   ]
  },
  {
   "cell_type": "code",
   "execution_count": 118,
   "metadata": {
    "collapsed": false
   },
   "outputs": [
    {
     "data": {
      "text/plain": [
       "matrix([[ 0.5,  0.3,  0.1],\n",
       "        [ 0.3,  0.4,  0.3],\n",
       "        [ 0.2,  0.3,  0.6]])"
      ]
     },
     "execution_count": 118,
     "metadata": {},
     "output_type": "execute_result"
    }
   ],
   "source": [
    "M = [[0.5,0.3,0.1],[0.3,0.4,0.3],[0.2,0.3,0.6]]\n",
    "M = np.asmatrix(M)\n",
    "M"
   ]
  },
  {
   "cell_type": "code",
   "execution_count": 119,
   "metadata": {
    "collapsed": false
   },
   "outputs": [],
   "source": [
    "autovalor , autovetor = np.linalg.eig(M)"
   ]
  },
  {
   "cell_type": "code",
   "execution_count": 120,
   "metadata": {
    "collapsed": false
   },
   "outputs": [
    {
     "data": {
      "text/plain": [
       "array([ 1. ,  0.4,  0.1])"
      ]
     },
     "execution_count": 120,
     "metadata": {},
     "output_type": "execute_result"
    }
   ],
   "source": [
    "autovalor"
   ]
  },
  {
   "cell_type": "markdown",
   "metadata": {
    "collapsed": false
   },
   "source": [
    "#### b)"
   ]
  },
  {
   "cell_type": "code",
   "execution_count": 121,
   "metadata": {
    "collapsed": true
   },
   "outputs": [],
   "source": [
    "x_0 = [0,0,1]"
   ]
  },
  {
   "cell_type": "code",
   "execution_count": 122,
   "metadata": {
    "collapsed": false
   },
   "outputs": [
    {
     "data": {
      "text/plain": [
       "matrix([[ 0.246],\n",
       "        [ 0.333],\n",
       "        [ 0.421]])"
      ]
     },
     "execution_count": 122,
     "metadata": {},
     "output_type": "execute_result"
    }
   ],
   "source": [
    "x_1 = np.dot(M,x_0)\n",
    "x_2 = np.dot(M,x_1.transpose())\n",
    "x_3 = np.dot(M,x_2)\n",
    "x_3"
   ]
  },
  {
   "cell_type": "markdown",
   "metadata": {},
   "source": [
    "#### c) "
   ]
  },
  {
   "cell_type": "markdown",
   "metadata": {},
   "source": [
    "#### As probabilidades no futuro não dependem do valor inicial "
   ]
  },
  {
   "cell_type": "code",
   "execution_count": 123,
   "metadata": {
    "collapsed": false
   },
   "outputs": [],
   "source": [
    "V = [0,1,0]"
   ]
  },
  {
   "cell_type": "code",
   "execution_count": 124,
   "metadata": {
    "collapsed": false
   },
   "outputs": [
    {
     "data": {
      "text/plain": [
       "matrix([[ 0.3,  0.4,  0.3]])"
      ]
     },
     "execution_count": 124,
     "metadata": {},
     "output_type": "execute_result"
    }
   ],
   "source": [
    "V1=np.dot(M,V)\n",
    "V1"
   ]
  },
  {
   "cell_type": "code",
   "execution_count": 125,
   "metadata": {
    "collapsed": false
   },
   "outputs": [
    {
     "data": {
      "text/plain": [
       "matrix([[ 0.27846 ],\n",
       "        [ 0.333334],\n",
       "        [ 0.388206]])"
      ]
     },
     "execution_count": 125,
     "metadata": {},
     "output_type": "execute_result"
    }
   ],
   "source": [
    "V2=np.dot(M,V1.T)\n",
    "V3=np.dot(M,V2)\n",
    "V4=np.dot(M,V3)\n",
    "V5=np.dot(M,V4)\n",
    "V6=np.dot(M,V5)\n",
    "V6"
   ]
  },
  {
   "cell_type": "markdown",
   "metadata": {},
   "source": [
    "#### Exemplo para diagonalizar (VDV-1)"
   ]
  },
  {
   "cell_type": "code",
   "execution_count": 126,
   "metadata": {
    "collapsed": false
   },
   "outputs": [
    {
     "data": {
      "text/plain": [
       "matrix([[ 0.66666667,  0.33333333],\n",
       "        [ 0.5       ,  0.5       ]])"
      ]
     },
     "execution_count": 126,
     "metadata": {},
     "output_type": "execute_result"
    }
   ],
   "source": [
    "m"
   ]
  },
  {
   "cell_type": "code",
   "execution_count": 127,
   "metadata": {
    "collapsed": true
   },
   "outputs": [],
   "source": [
    "autovalores,autovetores = np.linalg.eig(m)"
   ]
  },
  {
   "cell_type": "code",
   "execution_count": 128,
   "metadata": {
    "collapsed": false
   },
   "outputs": [
    {
     "data": {
      "text/plain": [
       "matrix([[ 0.66666667,  0.33333333],\n",
       "        [ 0.5       ,  0.5       ]])"
      ]
     },
     "execution_count": 128,
     "metadata": {},
     "output_type": "execute_result"
    }
   ],
   "source": [
    "autovetores * np.diag(autovalores) * np.linalg.inv(autovetores)"
   ]
  },
  {
   "cell_type": "code",
   "execution_count": 129,
   "metadata": {
    "collapsed": false
   },
   "outputs": [
    {
     "data": {
      "text/plain": [
       "matrix([[ 0.60000001,  0.39999999],\n",
       "        [ 0.59999999,  0.40000001]])"
      ]
     },
     "execution_count": 129,
     "metadata": {},
     "output_type": "execute_result"
    }
   ],
   "source": [
    "autovetores * np.diag(autovalores)**10 * np.linalg.inv(autovetores)"
   ]
  },
  {
   "cell_type": "markdown",
   "metadata": {},
   "source": [
    "#### Questão 4)"
   ]
  },
  {
   "cell_type": "code",
   "execution_count": 130,
   "metadata": {
    "collapsed": false
   },
   "outputs": [
    {
     "data": {
      "text/plain": [
       "array([[ 2.  ,  0.  ,  0.67,  0.  ,  0.4 ,  0.  ],\n",
       "       [ 0.  ,  0.67,  0.  ,  0.4 ,  0.  ,  0.29],\n",
       "       [ 0.67,  0.  ,  0.4 ,  0.  ,  0.29,  0.  ],\n",
       "       [ 0.  ,  0.4 ,  0.  ,  0.29,  0.  ,  0.22],\n",
       "       [ 0.4 ,  0.  ,  0.29,  0.  ,  0.22,  0.  ],\n",
       "       [ 0.  ,  0.29,  0.  ,  0.22,  0.  ,  0.18]])"
      ]
     },
     "execution_count": 130,
     "metadata": {},
     "output_type": "execute_result"
    }
   ],
   "source": [
    "A = [[2,0,2/3,0,2/5,0],[0,2/3,0,2/5,0,2/7],[2/3,0,2/5,0,2/7,0],[0,2/5,0,2/7,0,2/9],[2/5,0,2/7,0,2/9,0],[0,2/7,0,2/9,0,2/11]]\n",
    "A = np.asmatrix(A)\n",
    "np.around(A,decimals=2)"
   ]
  },
  {
   "cell_type": "code",
   "execution_count": 131,
   "metadata": {
    "collapsed": false
   },
   "outputs": [],
   "source": [
    "autovalores,autovetores = np.linalg.eig(A)"
   ]
  },
  {
   "cell_type": "code",
   "execution_count": 132,
   "metadata": {
    "collapsed": false
   },
   "outputs": [
    {
     "data": {
      "text/plain": [
       "array([[ 0.91,  0.4 ,  0.07,  0.  ,  0.  , -0.  ],\n",
       "       [-0.  ,  0.  , -0.  ,  0.78,  0.61,  0.17],\n",
       "       [ 0.34, -0.66, -0.66, -0.  , -0.  ,  0.  ],\n",
       "       [-0.  , -0.  ,  0.  ,  0.51, -0.44, -0.74],\n",
       "       [ 0.22, -0.63,  0.74, -0.  ,  0.  , -0.  ],\n",
       "       [-0.  , -0.  ,  0.  ,  0.38, -0.66,  0.65]])"
      ]
     },
     "execution_count": 132,
     "metadata": {},
     "output_type": "execute_result"
    }
   ],
   "source": [
    "V = np.around(autovetores,decimals=2)\n",
    "V"
   ]
  },
  {
   "cell_type": "code",
   "execution_count": 133,
   "metadata": {
    "collapsed": false
   },
   "outputs": [
    {
     "data": {
      "text/plain": [
       "array([ 2.35,  0.27,  0.01,  1.07,  0.07,  0.  ])"
      ]
     },
     "execution_count": 133,
     "metadata": {},
     "output_type": "execute_result"
    }
   ],
   "source": [
    "np.around(autovalores,decimals=2)"
   ]
  },
  {
   "cell_type": "code",
   "execution_count": 134,
   "metadata": {
    "collapsed": false
   },
   "outputs": [
    {
     "data": {
      "text/plain": [
       "array([[ 2.35,  0.  ,  0.  ,  0.  ,  0.  ,  0.  ],\n",
       "       [ 0.  ,  0.27,  0.  ,  0.  ,  0.  ,  0.  ],\n",
       "       [ 0.  ,  0.  ,  0.01,  0.  ,  0.  ,  0.  ],\n",
       "       [ 0.  ,  0.  ,  0.  ,  1.07,  0.  ,  0.  ],\n",
       "       [ 0.  ,  0.  ,  0.  ,  0.  ,  0.07,  0.  ],\n",
       "       [ 0.  ,  0.  ,  0.  ,  0.  ,  0.  ,  0.  ]])"
      ]
     },
     "execution_count": 134,
     "metadata": {},
     "output_type": "execute_result"
    }
   ],
   "source": [
    "D = np.diag(np.around(autovalores,decimals=2))\n",
    "D"
   ]
  },
  {
   "cell_type": "code",
   "execution_count": 135,
   "metadata": {
    "collapsed": false
   },
   "outputs": [
    {
     "data": {
      "text/plain": [
       "array([  0.65,   1.93,  12.35,   0.97,   3.87,  28.23])"
      ]
     },
     "execution_count": 135,
     "metadata": {},
     "output_type": "execute_result"
    }
   ],
   "source": [
    "np.around(1/np.sqrt(autovalores),decimals=2)"
   ]
  },
  {
   "cell_type": "code",
   "execution_count": 136,
   "metadata": {
    "collapsed": false
   },
   "outputs": [
    {
     "data": {
      "text/plain": [
       "array([[  0.65,   0.  ,   0.  ,   0.  ,   0.  ,   0.  ],\n",
       "       [  0.  ,   1.93,   0.  ,   0.  ,   0.  ,   0.  ],\n",
       "       [  0.  ,   0.  ,  12.35,   0.  ,   0.  ,   0.  ],\n",
       "       [  0.  ,   0.  ,   0.  ,   0.97,   0.  ,   0.  ],\n",
       "       [  0.  ,   0.  ,   0.  ,   0.  ,   3.87,   0.  ],\n",
       "       [  0.  ,   0.  ,   0.  ,   0.  ,   0.  ,  28.23]])"
      ]
     },
     "execution_count": 136,
     "metadata": {},
     "output_type": "execute_result"
    }
   ],
   "source": [
    "D = np.diag(np.around(1/np.sqrt(autovalores),decimals=2))\n",
    "D"
   ]
  },
  {
   "cell_type": "code",
   "execution_count": null,
   "metadata": {
    "collapsed": false
   },
   "outputs": [],
   "source": []
  },
  {
   "cell_type": "code",
   "execution_count": 137,
   "metadata": {
    "collapsed": true
   },
   "outputs": [],
   "source": [
    "# m = (autovetores de m*m.T) * (raiz dos autovalores de m.T*m) * (autovetores de m.T*m)"
   ]
  }
 ],
 "metadata": {
  "kernelspec": {
   "display_name": "Python 3",
   "language": "python",
   "name": "python3"
  },
  "language_info": {
   "codemirror_mode": {
    "name": "ipython",
    "version": 3
   },
   "file_extension": ".py",
   "mimetype": "text/x-python",
   "name": "python",
   "nbconvert_exporter": "python",
   "pygments_lexer": "ipython3",
   "version": "3.5.2"
  }
 },
 "nbformat": 4,
 "nbformat_minor": 1
}
